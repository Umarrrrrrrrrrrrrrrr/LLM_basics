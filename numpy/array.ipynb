{
 "cells": [
  {
   "cell_type": "code",
   "execution_count": 1,
   "id": "32e1e6ec",
   "metadata": {},
   "outputs": [],
   "source": [
    "import numpy as np"
   ]
  },
  {
   "cell_type": "code",
   "execution_count": 2,
   "id": "e6dc318a",
   "metadata": {},
   "outputs": [],
   "source": [
    "arr = np.array([[-1, 2, 0, 4], [4, -0.5, 6, 0], [2.6, 0, 7, 8], [3, -7, 4, 2.0]])"
   ]
  },
  {
   "cell_type": "markdown",
   "id": "309a9f07",
   "metadata": {},
   "source": [
    "Printing a range of Arrays"
   ]
  },
  {
   "cell_type": "markdown",
   "id": "12bb8483",
   "metadata": {},
   "source": [
    "with the use of slicing method\n"
   ]
  },
  {
   "cell_type": "code",
   "execution_count": 3,
   "id": "c9c1ea2c",
   "metadata": {},
   "outputs": [
    {
     "name": "stdout",
     "output_type": "stream",
     "text": [
      "[[-1.   0. ]\n",
      " [ 2.6  7. ]]\n"
     ]
    }
   ],
   "source": [
    "arr2 = arr[::2, ::2]\n",
    "print(arr2)"
   ]
  },
  {
   "cell_type": "markdown",
   "id": "6b9d30ec",
   "metadata": {},
   "source": [
    "Data types\n"
   ]
  },
  {
   "cell_type": "markdown",
   "id": "d89927cd",
   "metadata": {},
   "source": [
    "Integer Datatype"
   ]
  },
  {
   "cell_type": "code",
   "execution_count": 4,
   "id": "1e7eb4bd",
   "metadata": {},
   "outputs": [
    {
     "name": "stdout",
     "output_type": "stream",
     "text": [
      "int64\n"
     ]
    }
   ],
   "source": [
    "arr = np.array([1,2])\n",
    "print(arr.dtype)"
   ]
  },
  {
   "cell_type": "markdown",
   "id": "7a8ac913",
   "metadata": {},
   "source": [
    "Float datatype\n"
   ]
  },
  {
   "cell_type": "code",
   "execution_count": 6,
   "id": "d83f9a1d",
   "metadata": {},
   "outputs": [
    {
     "name": "stdout",
     "output_type": "stream",
     "text": [
      "float64\n"
     ]
    }
   ],
   "source": [
    "x = np.array([1.0, 2.0])\n",
    "print(x.dtype)\n"
   ]
  },
  {
   "cell_type": "markdown",
   "id": "3e2a836c",
   "metadata": {},
   "source": [
    "Forced Datatype"
   ]
  },
  {
   "cell_type": "code",
   "execution_count": 7,
   "id": "a865c522",
   "metadata": {},
   "outputs": [
    {
     "name": "stdout",
     "output_type": "stream",
     "text": [
      "int64\n"
     ]
    }
   ],
   "source": [
    "x = np.array([1,2], dtype = np.int64)\n",
    "print(x.dtype)"
   ]
  },
  {
   "cell_type": "code",
   "execution_count": 8,
   "id": "f8211aaa",
   "metadata": {},
   "outputs": [],
   "source": [
    "# first array\n",
    "arr1 = np.array([[4,7], [2,6]], dtype=np.float64)\n",
    "\n",
    "# Second array\n",
    "arr2 = np.array([[3,6], [2,8]], dtype=np.float64)"
   ]
  },
  {
   "cell_type": "markdown",
   "id": "8ae25dff",
   "metadata": {},
   "source": [
    "array addition"
   ]
  },
  {
   "cell_type": "code",
   "execution_count": 10,
   "id": "0827814a",
   "metadata": {},
   "outputs": [
    {
     "name": "stdout",
     "output_type": "stream",
     "text": [
      "[[ 7. 13.]\n",
      " [ 4. 14.]]\n"
     ]
    }
   ],
   "source": [
    "Sum = np.add(arr1, arr2)\n",
    "print(Sum)"
   ]
  },
  {
   "cell_type": "markdown",
   "id": "da4da352",
   "metadata": {},
   "source": [
    "Addition of all array elements"
   ]
  },
  {
   "cell_type": "code",
   "execution_count": 11,
   "id": "732c4f40",
   "metadata": {},
   "outputs": [
    {
     "name": "stdout",
     "output_type": "stream",
     "text": [
      "19.0\n"
     ]
    }
   ],
   "source": [
    "Sum1 = np.sum(arr1)\n",
    "print(Sum1)"
   ]
  },
  {
   "cell_type": "markdown",
   "id": "5f800f89",
   "metadata": {},
   "source": [
    "Square root of Array"
   ]
  },
  {
   "cell_type": "code",
   "execution_count": 12,
   "id": "f8060efa",
   "metadata": {},
   "outputs": [
    {
     "name": "stdout",
     "output_type": "stream",
     "text": [
      "[[2.         2.64575131]\n",
      " [1.41421356 2.44948974]]\n"
     ]
    }
   ],
   "source": [
    "Sqrt = np.sqrt(arr1)\n",
    "print(Sqrt)"
   ]
  },
  {
   "cell_type": "markdown",
   "id": "7e014136",
   "metadata": {},
   "source": [
    "Transpose of Array"
   ]
  },
  {
   "cell_type": "code",
   "execution_count": 13,
   "id": "d1d1cfd1",
   "metadata": {},
   "outputs": [
    {
     "name": "stdout",
     "output_type": "stream",
     "text": [
      "[[4. 2.]\n",
      " [7. 6.]]\n"
     ]
    }
   ],
   "source": [
    "Trans_arr = arr1.T\n",
    "print(Trans_arr)"
   ]
  },
  {
   "cell_type": "markdown",
   "id": "229cbdef",
   "metadata": {},
   "source": [
    "hypot method"
   ]
  },
  {
   "cell_type": "code",
   "execution_count": 14,
   "id": "440bbd04",
   "metadata": {},
   "outputs": [
    {
     "name": "stdout",
     "output_type": "stream",
     "text": [
      "Leg1 array :  [12, 3, 4, 6]\n",
      "leg2 array :  [5, 4, 3, 8]\n",
      "[13.  5.  5. 10.]\n"
     ]
    }
   ],
   "source": [
    "leg1 = [12, 3, 4, 6]\n",
    "print(\"Leg1 array : \", leg1)\n",
    "\n",
    "leg2 = [5, 4, 3, 8]\n",
    "print(\"leg2 array : \", leg2 )\n",
    "\n",
    "result = np.hypot(leg1, leg2)\n",
    "print(result)"
   ]
  },
  {
   "cell_type": "markdown",
   "id": "e8d1511b",
   "metadata": {},
   "source": [
    "Checking if the list is empty"
   ]
  },
  {
   "cell_type": "markdown",
   "id": "883983bd",
   "metadata": {},
   "source": [
    "using len"
   ]
  },
  {
   "cell_type": "code",
   "execution_count": 15,
   "id": "b6d41b11",
   "metadata": {},
   "outputs": [
    {
     "name": "stdout",
     "output_type": "stream",
     "text": [
      "The list is empty\n"
     ]
    }
   ],
   "source": [
    "a = []\n",
    "if len(a) == 0:\n",
    "    print(\"The list is empty\")\n",
    "else:\n",
    "    print(\"The list is not empty\")"
   ]
  },
  {
   "cell_type": "markdown",
   "id": "879e7498",
   "metadata": {},
   "source": [
    "using not"
   ]
  },
  {
   "cell_type": "code",
   "execution_count": 17,
   "id": "43374f67",
   "metadata": {},
   "outputs": [
    {
     "name": "stdout",
     "output_type": "stream",
     "text": [
      "List is not empty\n"
     ]
    }
   ],
   "source": [
    "a = [1]\n",
    "if not a:\n",
    "    print(\"empty list\")\n",
    "else:\n",
    "    print(\"List is not empty\")"
   ]
  },
  {
   "cell_type": "markdown",
   "id": "545704c0",
   "metadata": {},
   "source": [
    "Using boolean Evaluation Directly"
   ]
  },
  {
   "cell_type": "code",
   "execution_count": 20,
   "id": "07502d60",
   "metadata": {},
   "outputs": [
    {
     "name": "stdout",
     "output_type": "stream",
     "text": [
      "The list is not empty\n"
     ]
    }
   ],
   "source": [
    "a = [2]\n",
    "if a:\n",
    "    print(\"The list is not empty\")\n",
    "else:\n",
    "    print(\"The list is empty\")"
   ]
  },
  {
   "cell_type": "markdown",
   "id": "de55c1a6",
   "metadata": {},
   "source": [
    "Get unique values from a list in python"
   ]
  },
  {
   "cell_type": "markdown",
   "id": "b7965639",
   "metadata": {},
   "source": [
    "using dict.fromkeys()"
   ]
  },
  {
   "cell_type": "code",
   "execution_count": 21,
   "id": "cc24c9b5",
   "metadata": {},
   "outputs": [
    {
     "name": "stdout",
     "output_type": "stream",
     "text": [
      "[1, 2, 3, 4, 5]\n"
     ]
    }
   ],
   "source": [
    "a = [1,2,1,1,3,4,3,3,5]\n",
    "res = list(dict.fromkeys(a))\n",
    "print(res)"
   ]
  },
  {
   "cell_type": "markdown",
   "id": "ffa9efe4",
   "metadata": {},
   "source": [
    "Using SET conversion"
   ]
  },
  {
   "cell_type": "code",
   "execution_count": 2,
   "id": "b1efab7b",
   "metadata": {},
   "outputs": [
    {
     "name": "stdout",
     "output_type": "stream",
     "text": [
      "[1, 2, 3, 4, 5]\n"
     ]
    }
   ],
   "source": [
    "a = [1, 2, 1, 1, 3, 4, 3, 3, 5]\n",
    "res = list(set(a))\n",
    "print(res)"
   ]
  },
  {
   "cell_type": "markdown",
   "id": "58c78c46",
   "metadata": {},
   "source": [
    "Using FOR loops for getting unique value "
   ]
  },
  {
   "cell_type": "code",
   "execution_count": 3,
   "id": "ef90a009",
   "metadata": {},
   "outputs": [
    {
     "name": "stdout",
     "output_type": "stream",
     "text": [
      "[1, 2, 3, 4, 5]\n"
     ]
    }
   ],
   "source": [
    "a = [1, 2, 1, 1, 3, 4, 3, 3, 5]\n",
    "res = []\n",
    "for item in a:\n",
    "    if item not in res:\n",
    "        res.append(item)\n",
    "print(res)"
   ]
  },
  {
   "cell_type": "markdown",
   "id": "3378b1dc",
   "metadata": {},
   "source": [
    "Multiplying all numbers in a list"
   ]
  },
  {
   "cell_type": "code",
   "execution_count": 4,
   "id": "f1c718c8",
   "metadata": {},
   "outputs": [
    {
     "name": "stdout",
     "output_type": "stream",
     "text": [
      "192\n"
     ]
    }
   ],
   "source": [
    "a = [2, 4, 8, 3]\n",
    "res = 1\n",
    "for val in a:\n",
    "    res = res * val\n",
    "print(res)"
   ]
  },
  {
   "cell_type": "markdown",
   "id": "32594094",
   "metadata": {},
   "source": [
    "Using math.prod()"
   ]
  },
  {
   "cell_type": "code",
   "execution_count": 6,
   "id": "2af48404",
   "metadata": {},
   "outputs": [
    {
     "name": "stdout",
     "output_type": "stream",
     "text": [
      "384\n"
     ]
    }
   ],
   "source": [
    "import math\n",
    "a = [2, 4, 6, 8]\n",
    "res = math.prod(a)\n",
    "print(res)"
   ]
  },
  {
   "cell_type": "markdown",
   "id": "b151b288",
   "metadata": {},
   "source": [
    "Using reduce and mul"
   ]
  },
  {
   "cell_type": "code",
   "execution_count": 7,
   "id": "3d37b607",
   "metadata": {},
   "outputs": [
    {
     "name": "stdout",
     "output_type": "stream",
     "text": [
      "192\n"
     ]
    }
   ],
   "source": [
    "from functools import reduce\n",
    "from operator import mul\n",
    "\n",
    "a = [2, 4, 8, 3]\n",
    "res = reduce(mul, a)\n",
    "print(res)"
   ]
  },
  {
   "cell_type": "markdown",
   "id": "db5ef60b",
   "metadata": {},
   "source": [
    "Using Itertools\n"
   ]
  },
  {
   "cell_type": "code",
   "execution_count": 1,
   "id": "f80efbf8",
   "metadata": {},
   "outputs": [
    {
     "name": "stdout",
     "output_type": "stream",
     "text": [
      "[[1, 4], [2, 5], [3, 6]]\n",
      "Time taken 0 ns\n"
     ]
    }
   ],
   "source": [
    "from itertools import chain\n",
    "import time\n",
    "import numpy as np\n",
    "\n",
    "def transpose2(M):\n",
    "    M = M.tolist()\n",
    "    n = len(M[0])\n",
    "    L = list((chain(*M)))\n",
    "    return [L[i::n] for i in range(n)]\n",
    "\n",
    "m = np.array([[1,2,3], [4,5,6]])\n",
    "start = time.time_ns()\n",
    "res = transpose2(m)\n",
    "end = time.time_ns()\n",
    "\n",
    "print(res)\n",
    "print(\"Time taken\", end-start, \"ns\")"
   ]
  },
  {
   "cell_type": "markdown",
   "id": "a0e9432e",
   "metadata": {},
   "source": [
    "Using ZIP\n"
   ]
  },
  {
   "cell_type": "code",
   "execution_count": 2,
   "id": "7a9ab289",
   "metadata": {},
   "outputs": [
    {
     "name": "stdout",
     "output_type": "stream",
     "text": [
      "(1, 4, 7, 10)\n",
      "(2, 5, 8, 11)\n",
      "(3, 6, 9, 12)\n"
     ]
    }
   ],
   "source": [
    "m = [(1,2,3), (4,5,6), (7,8,9), (10,11,12)]\n",
    "t_m = zip(*m)\n",
    "for row in t_m:\n",
    "    print(row)"
   ]
  },
  {
   "cell_type": "markdown",
   "id": "84f9203f",
   "metadata": {},
   "source": [
    "Simple transpose"
   ]
  },
  {
   "cell_type": "code",
   "execution_count": 5,
   "id": "95c7b8f7",
   "metadata": {},
   "outputs": [
    {
     "name": "stdout",
     "output_type": "stream",
     "text": [
      "[[1 4]\n",
      " [2 5]\n",
      " [3 6]]\n"
     ]
    }
   ],
   "source": [
    "import numpy as np\n",
    "m = [(1, 2, 3), (4, 5, 6)]\n",
    "print(np.transpose(m))"
   ]
  },
  {
   "cell_type": "markdown",
   "id": "44b89f7e",
   "metadata": {},
   "source": [
    "Using T after the variables"
   ]
  },
  {
   "cell_type": "code",
   "execution_count": 7,
   "id": "efde4842",
   "metadata": {},
   "outputs": [
    {
     "name": "stdout",
     "output_type": "stream",
     "text": [
      "[[1 4]\n",
      " [2 5]\n",
      " [3 6]]\n"
     ]
    }
   ],
   "source": [
    "import numpy as np\n",
    "\n",
    "m = np.array([[1,2,3], [4,5,6]])\n",
    "print(m.T)"
   ]
  },
  {
   "cell_type": "markdown",
   "id": "868d8982",
   "metadata": {},
   "source": [
    "Multiplication of  two matrix in python"
   ]
  },
  {
   "cell_type": "code",
   "execution_count": 8,
   "id": "41d0a1cb",
   "metadata": {},
   "outputs": [
    {
     "name": "stdout",
     "output_type": "stream",
     "text": [
      "[[17, 28, 51], [51, 56, 85], [119, 84, 68]]\n"
     ]
    }
   ],
   "source": [
    "matrix1 = ([[1,2,3], [3,4,5], [7,6,4]])\n",
    "matrix2 = ([[5,2,6], [5,6,7], [7,6,4]])\n",
    "\n",
    "res = [[0 for x in range(3)] for y in range(3)]\n",
    "\n",
    "# Explict for loops\n",
    "for i in range(len(matrix1)):\n",
    "    for j in range(len(matrix2[0])):\n",
    "        for k in range((len(matrix2))):\n",
    "\n",
    "            # Resulted matrix\n",
    "            res[i][j] += matrix1[i][j] * matrix2[k][j]\n",
    "print(res)"
   ]
  },
  {
   "cell_type": "markdown",
   "id": "76b02353",
   "metadata": {},
   "source": [
    "Dot products"
   ]
  },
  {
   "cell_type": "code",
   "execution_count": 9,
   "id": "e6e66a5b",
   "metadata": {},
   "outputs": [
    {
     "name": "stdout",
     "output_type": "stream",
     "text": [
      "[[ 63 320  83]\n",
      " [ 77 484 102]\n",
      " [ 84 248 117]]\n"
     ]
    }
   ],
   "source": [
    "mat1 = ([1, 6, 5], [3, 4, 8], [2, 12, 3])\n",
    "mat2 = ([3, 4, 6], [5, 6, 7], [6, 56, 7])\n",
    "\n",
    "# This will return dot products\n",
    "res = np.dot(mat1, mat2)\n",
    "print(res)"
   ]
  },
  {
   "cell_type": "markdown",
   "id": "12b154f1",
   "metadata": {},
   "source": [
    "Checkerboard pattern"
   ]
  },
  {
   "cell_type": "code",
   "execution_count": 11,
   "id": "340eb232",
   "metadata": {},
   "outputs": [
    {
     "name": "stdout",
     "output_type": "stream",
     "text": [
      "Checkerboard pattern\n",
      "01010101\n",
      "10101010\n",
      "01010101\n",
      "10101010\n",
      "01010101\n",
      "10101010\n",
      "01010101\n",
      "10101010\n"
     ]
    }
   ],
   "source": [
    "# Function to print checkerboard pattern\n",
    "\n",
    "def printcheckerboard(n):\n",
    "    print(\"Checkerboard pattern\")\n",
    "\n",
    "    # Create a n * n matrix\n",
    "    x = np.zeros((n, n), dtype=int)\n",
    "\n",
    "    # fill with 1 the alternative cells in rows and columns\n",
    "    x[1::2, ::2] = 1\n",
    "    x[::2, 1::2] = 1\n",
    "\n",
    "    # Print the pattern\n",
    "    for i in range(n):\n",
    "        for j in range(n):\n",
    "            print(x[i][j], end=\"\")\n",
    "        print()\n",
    "\n",
    "# driver code\n",
    "n = 8\n",
    "printcheckerboard(n)"
   ]
  },
  {
   "cell_type": "markdown",
   "id": "2bde29a2",
   "metadata": {},
   "source": [
    "Python program to print nXn Assuming that n"
   ]
  },
  {
   "cell_type": "markdown",
   "id": "06741ba2",
   "metadata": {},
   "source": [
    "is always even as a checkerboard was"
   ]
  },
  {
   "cell_type": "code",
   "execution_count": 20,
   "id": "76fe1c00",
   "metadata": {},
   "outputs": [
    {
     "name": "stdout",
     "output_type": "stream",
     "text": [
      "[[0 1 0 1 0 1 0 1]\n",
      " [1 0 1 0 1 0 1 0]\n",
      " [0 1 0 1 0 1 0 1]\n",
      " [1 0 1 0 1 0 1 0]\n",
      " [0 1 0 1 0 1 0 1]\n",
      " [1 0 1 0 1 0 1 0]\n",
      " [0 1 0 1 0 1 0 1]\n",
      " [1 0 1 0 1 0 1 0]]\n"
     ]
    }
   ],
   "source": [
    "import numpy as np\n",
    "\n",
    "def printcheckboard(n):\n",
    "    final = []\n",
    "    for i in range(n):\n",
    "        row = np.tile([0, 1], int(n/2)) if i % 2 == 0 else np.tile([1, 0], int(n/2))\n",
    "        final.append(row)\n",
    "    print(np.array(final))\n",
    "\n",
    "# driver code\n",
    "n = 8\n",
    "printcheckboard(n)\n"
   ]
  },
  {
   "cell_type": "markdown",
   "id": "4e0cfceb",
   "metadata": {},
   "source": [
    "Matrix Operations\n"
   ]
  },
  {
   "cell_type": "code",
   "execution_count": 24,
   "id": "86f92393",
   "metadata": {},
   "outputs": [
    {
     "name": "stdout",
     "output_type": "stream",
     "text": [
      "The element wise addition of matrix is:\n",
      "[[ 8 10]\n",
      " [13 15]]\n",
      "The element after the substraction is:\n",
      "[[-6 -6]\n",
      " [-5 -5]]\n",
      "The element wise division of matrix is: \n",
      "[[0.14285714 0.25      ]\n",
      " [0.44444444 0.5       ]]\n"
     ]
    }
   ],
   "source": [
    "import numpy\n",
    "\n",
    "# initializating matrics\n",
    "x = numpy.array([[1, 2], [4, 5]])\n",
    "y = numpy.array([[7, 8], [9, 10]])\n",
    "\n",
    "# Using add() to add matrics\n",
    "print(\"The element wise addition of matrix is:\")\n",
    "print(numpy.add(x, y))\n",
    "\n",
    "# Using subtract() to substract matrices\n",
    "print(\"The element after the substraction is:\")\n",
    "print(numpy.subtract(x, y))\n",
    "\n",
    "# Using divide() to divide matrics\n",
    "print(\"The element wise division of matrix is: \")\n",
    "print(numpy.divide(x, y))"
   ]
  },
  {
   "cell_type": "code",
   "execution_count": 26,
   "id": "d589bc48",
   "metadata": {},
   "outputs": [
    {
     "name": "stdout",
     "output_type": "stream",
     "text": [
      "The element wise multiplication of matrix is :\n",
      "[[ 7 16]\n",
      " [36 50]]\n",
      "The prduct of matrics is:\n",
      "[[25 28]\n",
      " [73 82]]\n"
     ]
    }
   ],
   "source": [
    "# initializing matrics\n",
    "x = numpy.array([[1, 2], [4, 5]])\n",
    "y = numpy.array([[7, 8], [9, 10]]) \n",
    "\n",
    "# Using multiply() to multiply matrics element wise\n",
    "print(\"The element wise multiplication of matrix is :\")\n",
    "print(numpy.multiply(x,y))\n",
    "\n",
    "# Using dot() to multiply matrices\n",
    "print(\"The prduct of matrics is:\")\n",
    "print(numpy.dot(x,y))"
   ]
  },
  {
   "cell_type": "code",
   "execution_count": null,
   "id": "538a94ee",
   "metadata": {},
   "outputs": [],
   "source": []
  }
 ],
 "metadata": {
  "kernelspec": {
   "display_name": "Python 3",
   "language": "python",
   "name": "python3"
  },
  "language_info": {
   "codemirror_mode": {
    "name": "ipython",
    "version": 3
   },
   "file_extension": ".py",
   "mimetype": "text/x-python",
   "name": "python",
   "nbconvert_exporter": "python",
   "pygments_lexer": "ipython3",
   "version": "3.12.10"
  }
 },
 "nbformat": 4,
 "nbformat_minor": 5
}
