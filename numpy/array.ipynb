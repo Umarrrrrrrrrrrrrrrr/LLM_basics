{
 "cells": [
  {
   "cell_type": "code",
   "execution_count": 1,
   "id": "32e1e6ec",
   "metadata": {},
   "outputs": [],
   "source": [
    "import numpy as np"
   ]
  },
  {
   "cell_type": "code",
   "execution_count": 2,
   "id": "e6dc318a",
   "metadata": {},
   "outputs": [],
   "source": [
    "arr = np.array([[-1, 2, 0, 4], [4, -0.5, 6, 0], [2.6, 0, 7, 8], [3, -7, 4, 2.0]])"
   ]
  },
  {
   "cell_type": "markdown",
   "id": "309a9f07",
   "metadata": {},
   "source": [
    "Printing a range of Arrays"
   ]
  },
  {
   "cell_type": "markdown",
   "id": "12bb8483",
   "metadata": {},
   "source": [
    "with the use of slicing method\n"
   ]
  },
  {
   "cell_type": "code",
   "execution_count": 3,
   "id": "c9c1ea2c",
   "metadata": {},
   "outputs": [
    {
     "name": "stdout",
     "output_type": "stream",
     "text": [
      "[[-1.   0. ]\n",
      " [ 2.6  7. ]]\n"
     ]
    }
   ],
   "source": [
    "arr2 = arr[::2, ::2]\n",
    "print(arr2)"
   ]
  },
  {
   "cell_type": "markdown",
   "id": "6b9d30ec",
   "metadata": {},
   "source": [
    "Data types\n"
   ]
  },
  {
   "cell_type": "markdown",
   "id": "d89927cd",
   "metadata": {},
   "source": [
    "Integer Datatype"
   ]
  },
  {
   "cell_type": "code",
   "execution_count": 4,
   "id": "1e7eb4bd",
   "metadata": {},
   "outputs": [
    {
     "name": "stdout",
     "output_type": "stream",
     "text": [
      "int64\n"
     ]
    }
   ],
   "source": [
    "arr = np.array([1,2])\n",
    "print(arr.dtype)"
   ]
  },
  {
   "cell_type": "markdown",
   "id": "7a8ac913",
   "metadata": {},
   "source": [
    "Float datatype\n"
   ]
  },
  {
   "cell_type": "code",
   "execution_count": 6,
   "id": "d83f9a1d",
   "metadata": {},
   "outputs": [
    {
     "name": "stdout",
     "output_type": "stream",
     "text": [
      "float64\n"
     ]
    }
   ],
   "source": [
    "x = np.array([1.0, 2.0])\n",
    "print(x.dtype)\n"
   ]
  },
  {
   "cell_type": "markdown",
   "id": "3e2a836c",
   "metadata": {},
   "source": [
    "Forced Datatype"
   ]
  },
  {
   "cell_type": "code",
   "execution_count": 7,
   "id": "a865c522",
   "metadata": {},
   "outputs": [
    {
     "name": "stdout",
     "output_type": "stream",
     "text": [
      "int64\n"
     ]
    }
   ],
   "source": [
    "x = np.array([1,2], dtype = np.int64)\n",
    "print(x.dtype)"
   ]
  },
  {
   "cell_type": "code",
   "execution_count": null,
   "id": "f8211aaa",
   "metadata": {},
   "outputs": [],
   "source": []
  }
 ],
 "metadata": {
  "kernelspec": {
   "display_name": "Python 3",
   "language": "python",
   "name": "python3"
  },
  "language_info": {
   "codemirror_mode": {
    "name": "ipython",
    "version": 3
   },
   "file_extension": ".py",
   "mimetype": "text/x-python",
   "name": "python",
   "nbconvert_exporter": "python",
   "pygments_lexer": "ipython3",
   "version": "3.12.10"
  }
 },
 "nbformat": 4,
 "nbformat_minor": 5
}
