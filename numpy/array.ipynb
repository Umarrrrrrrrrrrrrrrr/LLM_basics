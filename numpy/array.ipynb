{
 "cells": [
  {
   "cell_type": "code",
   "execution_count": 1,
   "id": "32e1e6ec",
   "metadata": {},
   "outputs": [],
   "source": [
    "import numpy as np"
   ]
  },
  {
   "cell_type": "code",
   "execution_count": 2,
   "id": "e6dc318a",
   "metadata": {},
   "outputs": [],
   "source": [
    "arr = np.array([[-1, 2, 0, 4], [4, -0.5, 6, 0], [2.6, 0, 7, 8], [3, -7, 4, 2.0]])"
   ]
  },
  {
   "cell_type": "markdown",
   "id": "309a9f07",
   "metadata": {},
   "source": [
    "Printing a range of Arrays"
   ]
  },
  {
   "cell_type": "markdown",
   "id": "12bb8483",
   "metadata": {},
   "source": [
    "with the use of slicing method\n"
   ]
  },
  {
   "cell_type": "code",
   "execution_count": 3,
   "id": "c9c1ea2c",
   "metadata": {},
   "outputs": [
    {
     "name": "stdout",
     "output_type": "stream",
     "text": [
      "[[-1.   0. ]\n",
      " [ 2.6  7. ]]\n"
     ]
    }
   ],
   "source": [
    "arr2 = arr[::2, ::2]\n",
    "print(arr2)"
   ]
  },
  {
   "cell_type": "markdown",
   "id": "6b9d30ec",
   "metadata": {},
   "source": [
    "Data types\n"
   ]
  },
  {
   "cell_type": "markdown",
   "id": "d89927cd",
   "metadata": {},
   "source": [
    "Integer Datatype"
   ]
  },
  {
   "cell_type": "code",
   "execution_count": 4,
   "id": "1e7eb4bd",
   "metadata": {},
   "outputs": [
    {
     "name": "stdout",
     "output_type": "stream",
     "text": [
      "int64\n"
     ]
    }
   ],
   "source": [
    "arr = np.array([1,2])\n",
    "print(arr.dtype)"
   ]
  },
  {
   "cell_type": "markdown",
   "id": "7a8ac913",
   "metadata": {},
   "source": [
    "Float datatype\n"
   ]
  },
  {
   "cell_type": "code",
   "execution_count": 6,
   "id": "d83f9a1d",
   "metadata": {},
   "outputs": [
    {
     "name": "stdout",
     "output_type": "stream",
     "text": [
      "float64\n"
     ]
    }
   ],
   "source": [
    "x = np.array([1.0, 2.0])\n",
    "print(x.dtype)\n"
   ]
  },
  {
   "cell_type": "markdown",
   "id": "3e2a836c",
   "metadata": {},
   "source": [
    "Forced Datatype"
   ]
  },
  {
   "cell_type": "code",
   "execution_count": 7,
   "id": "a865c522",
   "metadata": {},
   "outputs": [
    {
     "name": "stdout",
     "output_type": "stream",
     "text": [
      "int64\n"
     ]
    }
   ],
   "source": [
    "x = np.array([1,2], dtype = np.int64)\n",
    "print(x.dtype)"
   ]
  },
  {
   "cell_type": "code",
   "execution_count": 8,
   "id": "f8211aaa",
   "metadata": {},
   "outputs": [],
   "source": [
    "# first array\n",
    "arr1 = np.array([[4,7], [2,6]], dtype=np.float64)\n",
    "\n",
    "# Second array\n",
    "arr2 = np.array([[3,6], [2,8]], dtype=np.float64)"
   ]
  },
  {
   "cell_type": "markdown",
   "id": "8ae25dff",
   "metadata": {},
   "source": [
    "array addition"
   ]
  },
  {
   "cell_type": "code",
   "execution_count": 10,
   "id": "0827814a",
   "metadata": {},
   "outputs": [
    {
     "name": "stdout",
     "output_type": "stream",
     "text": [
      "[[ 7. 13.]\n",
      " [ 4. 14.]]\n"
     ]
    }
   ],
   "source": [
    "Sum = np.add(arr1, arr2)\n",
    "print(Sum)"
   ]
  },
  {
   "cell_type": "markdown",
   "id": "da4da352",
   "metadata": {},
   "source": [
    "Addition of all array elements"
   ]
  },
  {
   "cell_type": "code",
   "execution_count": 11,
   "id": "732c4f40",
   "metadata": {},
   "outputs": [
    {
     "name": "stdout",
     "output_type": "stream",
     "text": [
      "19.0\n"
     ]
    }
   ],
   "source": [
    "Sum1 = np.sum(arr1)\n",
    "print(Sum1)"
   ]
  },
  {
   "cell_type": "markdown",
   "id": "5f800f89",
   "metadata": {},
   "source": [
    "Square root of Array"
   ]
  },
  {
   "cell_type": "code",
   "execution_count": 12,
   "id": "f8060efa",
   "metadata": {},
   "outputs": [
    {
     "name": "stdout",
     "output_type": "stream",
     "text": [
      "[[2.         2.64575131]\n",
      " [1.41421356 2.44948974]]\n"
     ]
    }
   ],
   "source": [
    "Sqrt = np.sqrt(arr1)\n",
    "print(Sqrt)"
   ]
  },
  {
   "cell_type": "markdown",
   "id": "7e014136",
   "metadata": {},
   "source": [
    "Transpose of Array"
   ]
  },
  {
   "cell_type": "code",
   "execution_count": 13,
   "id": "d1d1cfd1",
   "metadata": {},
   "outputs": [
    {
     "name": "stdout",
     "output_type": "stream",
     "text": [
      "[[4. 2.]\n",
      " [7. 6.]]\n"
     ]
    }
   ],
   "source": [
    "Trans_arr = arr1.T\n",
    "print(Trans_arr)"
   ]
  },
  {
   "cell_type": "markdown",
   "id": "229cbdef",
   "metadata": {},
   "source": [
    "hypot method"
   ]
  },
  {
   "cell_type": "code",
   "execution_count": 14,
   "id": "440bbd04",
   "metadata": {},
   "outputs": [
    {
     "name": "stdout",
     "output_type": "stream",
     "text": [
      "Leg1 array :  [12, 3, 4, 6]\n",
      "leg2 array :  [5, 4, 3, 8]\n",
      "[13.  5.  5. 10.]\n"
     ]
    }
   ],
   "source": [
    "leg1 = [12, 3, 4, 6]\n",
    "print(\"Leg1 array : \", leg1)\n",
    "\n",
    "leg2 = [5, 4, 3, 8]\n",
    "print(\"leg2 array : \", leg2 )\n",
    "\n",
    "result = np.hypot(leg1, leg2)\n",
    "print(result)"
   ]
  },
  {
   "cell_type": "code",
   "execution_count": null,
   "id": "b6d41b11",
   "metadata": {},
   "outputs": [],
   "source": []
  }
 ],
 "metadata": {
  "kernelspec": {
   "display_name": "Python 3",
   "language": "python",
   "name": "python3"
  },
  "language_info": {
   "codemirror_mode": {
    "name": "ipython",
    "version": 3
   },
   "file_extension": ".py",
   "mimetype": "text/x-python",
   "name": "python",
   "nbconvert_exporter": "python",
   "pygments_lexer": "ipython3",
   "version": "3.12.10"
  }
 },
 "nbformat": 4,
 "nbformat_minor": 5
}
