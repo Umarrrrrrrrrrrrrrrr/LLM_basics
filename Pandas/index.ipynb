{
 "cells": [
  {
   "cell_type": "markdown",
   "id": "444d6290",
   "metadata": {},
   "source": [
    "Learning Pandas"
   ]
  },
  {
   "cell_type": "markdown",
   "id": "99534b6c",
   "metadata": {},
   "source": [
    "Creating an empty dataframe"
   ]
  },
  {
   "cell_type": "code",
   "execution_count": 1,
   "id": "f87c33bc",
   "metadata": {},
   "outputs": [
    {
     "name": "stdout",
     "output_type": "stream",
     "text": [
      "Empty DataFrame\n",
      "Columns: []\n",
      "Index: []\n"
     ]
    }
   ],
   "source": [
    "import pandas as pd\n",
    "\n",
    "df = pd.DataFrame()\n",
    "print(df)"
   ]
  },
  {
   "cell_type": "markdown",
   "id": "7dc775b8",
   "metadata": {},
   "source": [
    "Creating a DataFrame from a List\n"
   ]
  },
  {
   "cell_type": "code",
   "execution_count": 1,
   "id": "08aefc13",
   "metadata": {},
   "outputs": [
    {
     "name": "stdout",
     "output_type": "stream",
     "text": [
      "       0\n",
      "0  Geeks\n",
      "1    For\n",
      "2  Geeks\n",
      "3  Hellp\n"
     ]
    }
   ],
   "source": [
    "import pandas as pd\n",
    "\n",
    "lst = ['Geeks', 'For', 'Geeks', 'Hellp']\n",
    "df = pd.DataFrame(lst)\n",
    "print(df)"
   ]
  },
  {
   "cell_type": "markdown",
   "id": "b6132cb2",
   "metadata": {},
   "source": [
    "Creating DataFrame from dict of Numpy Array"
   ]
  },
  {
   "cell_type": "code",
   "execution_count": 3,
   "id": "341a4e69",
   "metadata": {},
   "outputs": [
    {
     "name": "stdout",
     "output_type": "stream",
     "text": [
      "   A  B  C\n",
      "0  1  2  3\n",
      "1  4  5  6\n",
      "2  7  8  9\n"
     ]
    }
   ],
   "source": [
    "import numpy as np\n",
    "import pandas as pd\n",
    "\n",
    "data = np.array([[1, 2, 3],[4, 5, 6], [7, 8, 9]])\n",
    "df = pd.DataFrame(data, columns=[\"A\", \"B\", \"C\"])\n",
    "print(df)"
   ]
  },
  {
   "cell_type": "markdown",
   "id": "7f42a375",
   "metadata": {},
   "source": [
    "Creating a DataFrame from a List of Dictonaries"
   ]
  },
  {
   "cell_type": "code",
   "execution_count": 4,
   "id": "230112bb",
   "metadata": {},
   "outputs": [
    {
     "name": "stdout",
     "output_type": "stream",
     "text": [
      "     name  degree  score\n",
      "0  aparna     MBA     90\n",
      "1  pankaj     BCA     40\n",
      "2  sudhir  M.Tech     80\n",
      "3   Geeku     MBA     98\n"
     ]
    }
   ],
   "source": [
    "import pandas as pd\n",
    "\n",
    "dict = {'name' : [\"aparna\", \"pankaj\", \"sudhir\", \"Geeku\"],\n",
    "        'degree' : [\"MBA\", \"BCA\", \"M.Tech\", \"MBA\"],\n",
    "        'score' : [90, 40, 80, 98]}\n",
    "\n",
    "df = pd.DataFrame(dict)\n",
    "print(df)"
   ]
  },
  {
   "cell_type": "markdown",
   "id": "c2f2d6cf",
   "metadata": {},
   "source": [
    "Creating a Pandas Series"
   ]
  },
  {
   "cell_type": "code",
   "execution_count": 5,
   "id": "077bbbeb",
   "metadata": {},
   "outputs": [
    {
     "name": "stdout",
     "output_type": "stream",
     "text": [
      "0    1\n",
      "1    2\n",
      "2    3\n",
      "3    4\n",
      "dtype: int64\n"
     ]
    }
   ],
   "source": [
    "import pandas as pd\n",
    "\n",
    "data = [1, 2, 3, 4]\n",
    "ser = pd.Series(data)\n",
    "print(ser)"
   ]
  },
  {
   "cell_type": "markdown",
   "id": "a28e70ca",
   "metadata": {},
   "source": [
    "Assessing element of series"
   ]
  },
  {
   "cell_type": "markdown",
   "id": "a5b3a7c2",
   "metadata": {},
   "source": [
    "Position based indexing"
   ]
  },
  {
   "cell_type": "code",
   "execution_count": 6,
   "id": "489f5854",
   "metadata": {},
   "outputs": [
    {
     "name": "stdout",
     "output_type": "stream",
     "text": [
      "0     g\n",
      "1     e\n",
      "2     e\n",
      "3     k\n",
      "4     s\n",
      "5     f\n",
      "6     o\n",
      "7     r\n",
      "8     g\n",
      "9     e\n",
      "10    e\n",
      "11    k\n",
      "12    s\n",
      "dtype: object\n"
     ]
    }
   ],
   "source": [
    "import pandas as pd\n",
    "import numpy as np\n",
    "\n",
    "data = np.array(['g', 'e', 'e', 'k', 's', 'f', 'o', 'r', 'g', 'e', 'e', 'k', 's'])\n",
    "ser = pd.Series(data)\n",
    "print(ser)"
   ]
  },
  {
   "cell_type": "markdown",
   "id": "0062fb91",
   "metadata": {},
   "source": [
    "Label based indexing"
   ]
  },
  {
   "cell_type": "code",
   "execution_count": 8,
   "id": "c52a0fe4",
   "metadata": {},
   "outputs": [
    {
     "name": "stdout",
     "output_type": "stream",
     "text": [
      "o e\n"
     ]
    }
   ],
   "source": [
    "import pandas as pd\n",
    "import numpy as np\n",
    "\n",
    "data = np.array(['g', 'e', 'e', 'k', 's', 'f', 'o', 'r', 'g', 'e', 'e', 'k', 's'])\n",
    "ser = pd.Series(data, index = [10,11,12,13,14,15,16,17,18,19,20,21,22])\n",
    "print(ser[16], ser[11])"
   ]
  },
  {
   "cell_type": "markdown",
   "id": "2b198032",
   "metadata": {},
   "source": [
    "Indexing and selecting data in series"
   ]
  },
  {
   "cell_type": "markdown",
   "id": "e235eaaf",
   "metadata": {},
   "source": [
    "Indexing a series using .loc[]"
   ]
  },
  {
   "cell_type": "code",
   "execution_count": null,
   "id": "1d622b33",
   "metadata": {},
   "outputs": [
    {
     "data": {
      "text/plain": [
       "3      R.J. Hunter\n",
       "4    Jonas Jerebko\n",
       "5     Amir Johnson\n",
       "Name: Name, dtype: object"
      ]
     },
     "execution_count": 14,
     "metadata": {},
     "output_type": "execute_result"
    }
   ],
   "source": [
    "import pandas as pd\n",
    "\n",
    "df = pd.read_csv(\"nba.csv\")\n",
    "ser = pd.Series(df['Name'])\n",
    "data = ser.head(10)\n",
    "# print(data)\n",
    "\n",
    "data.loc[3:6]\n"
   ]
  },
  {
   "cell_type": "code",
   "execution_count": 15,
   "id": "7126dbbf",
   "metadata": {},
   "outputs": [
    {
     "data": {
      "text/plain": [
       "3      R.J. Hunter\n",
       "4    Jonas Jerebko\n",
       "5     Amir Johnson\n",
       "Name: Name, dtype: object"
      ]
     },
     "execution_count": 15,
     "metadata": {},
     "output_type": "execute_result"
    }
   ],
   "source": [
    "data.iloc[3:6]"
   ]
  },
  {
   "cell_type": "markdown",
   "id": "2b5983e6",
   "metadata": {},
   "source": [
    "Binary Operations on Pandas Series"
   ]
  },
  {
   "cell_type": "code",
   "execution_count": 16,
   "id": "2f62d805",
   "metadata": {},
   "outputs": [
    {
     "name": "stdout",
     "output_type": "stream",
     "text": [
      "A    5\n",
      "B    7\n",
      "C    9\n",
      "dtype: int64\n"
     ]
    }
   ],
   "source": [
    "import pandas as pd\n",
    "\n",
    "ser1 = pd.Series([1, 2, 3], index = ['A', 'B', 'C'])\n",
    "ser2 = pd.Series([4, 5, 6], index = ['A', 'B', 'C'])\n",
    "\n",
    "df_sum = ser1.add(ser2)\n",
    "print(df_sum)"
   ]
  },
  {
   "cell_type": "markdown",
   "id": "cde241a8",
   "metadata": {},
   "source": [
    "Conversion Operation on Series"
   ]
  },
  {
   "cell_type": "code",
   "execution_count": 17,
   "id": "3ac75c03",
   "metadata": {},
   "outputs": [
    {
     "name": "stdout",
     "output_type": "stream",
     "text": [
      "0    1.0\n",
      "1    2.0\n",
      "2    3.0\n",
      "3    4.0\n",
      "dtype: float64\n"
     ]
    }
   ],
   "source": [
    "import pandas as pd\n",
    "\n",
    "ser = pd.Series([1, 2, 3, 4])\n",
    "ser = ser.astype(float)\n",
    "print(ser)\n"
   ]
  },
  {
   "cell_type": "markdown",
   "id": "edae017d",
   "metadata": {},
   "source": [
    "pandas Series.cov() to find Covariance"
   ]
  },
  {
   "cell_type": "code",
   "execution_count": null,
   "id": "80d4002d",
   "metadata": {},
   "outputs": [
    {
     "name": "stdout",
     "output_type": "stream",
     "text": [
      "3.0\n",
      "Results from pandas method : 2.849999999999999\n",
      "Results from manual function method : 2.8499999999999996\n"
     ]
    }
   ],
   "source": [
    "import pandas as pd\n",
    "\n",
    "# list 1\n",
    "a = [2, 3, 2.7, 3.2, 4.1]\n",
    "\n",
    "# list 2\n",
    "b = [10, 14, 12, 15, 20]\n",
    "\n",
    "# Storing average of a\n",
    "av_a = sum(a)/len(a)\n",
    "\n",
    "# print(av_a)\n",
    "\n",
    "# Storing average of b\n",
    "av_b = sum(b)/len(b)\n",
    "\n",
    "# making series from List a\n",
    "a = pd.Series(a)\n",
    "\n",
    "# making series from List b\n",
    "b = pd.Series(b)\n",
    "\n",
    "# Covariance  through  pandas method:\n",
    "covar = a.cov(b)\n",
    "\n",
    "# finding covariance manually\n",
    "def covarfn(a, b, av_a, av_b):\n",
    "    cov = 0\n",
    "\n",
    "    for i in range(0, len(a)):\n",
    "        cov += (a[i] - av_a) * (b[i] - av_b)\n",
    "    return (cov / (len(a)-1))\n",
    "\n",
    "# Calling function\n",
    "cov = covarfn(a, b, av_a, av_b)\n",
    "\n",
    "# Printing results\n",
    "print(\"Results from pandas method :\", covar)\n",
    "print(\"Results from manual function method :\", cov)\n",
    "\n",
    "\n",
    "\n"
   ]
  },
  {
   "cell_type": "markdown",
   "id": "fe2ff6b5",
   "metadata": {},
   "source": [
    "Pandas Series Index Attribute"
   ]
  },
  {
   "cell_type": "code",
   "execution_count": 4,
   "id": "92c34e31",
   "metadata": {},
   "outputs": [
    {
     "name": "stdout",
     "output_type": "stream",
     "text": [
      "Original Index: Index(['a', 'b', 'c', 'd'], dtype='object')\n",
      "Modifed Series:\n",
      " w    10\n",
      "x    20\n",
      "y    30\n",
      "z    40\n",
      "dtype: int64\n"
     ]
    }
   ],
   "source": [
    "import pandas as pd\n",
    "\n",
    "data = pd.Series([10, 20, 30, 40], index=['a', 'b', 'c', 'd'])\n",
    "\n",
    "# Accessing the index\n",
    "print(\"Original Index:\", data.index)\n",
    "\n",
    "\n",
    "# Modify the Index\n",
    "data.index = ['w', 'x', 'y', 'z']\n",
    "print(\"Modifed Series:\\n\", data)\n",
    "\n"
   ]
  },
  {
   "cell_type": "markdown",
   "id": "57ba4251",
   "metadata": {},
   "source": [
    "Assigning Duplicate Index Labels\n"
   ]
  },
  {
   "cell_type": "code",
   "execution_count": 7,
   "id": "11cbf9bb",
   "metadata": {},
   "outputs": [
    {
     "name": "stdout",
     "output_type": "stream",
     "text": [
      "city 1    New York\n",
      "city 2     Chicago\n",
      "city 3     Toronto\n",
      "city 4      Lisbon\n",
      "dtype: object\n"
     ]
    }
   ],
   "source": [
    "import pandas as pd\n",
    "\n",
    "series = pd.Series(['New York', 'Chicago', 'Toronto', 'Lisbon'])\n",
    "\n",
    "# Creating  the row axix labels\n",
    "series.index = ['city 1', 'city 2', 'city 3', 'city 4']\n",
    "print(series)\n"
   ]
  },
  {
   "cell_type": "markdown",
   "id": "49e698c3",
   "metadata": {},
   "source": [
    "Retriving Index labels"
   ]
  },
  {
   "cell_type": "code",
   "execution_count": 10,
   "id": "6344ad47",
   "metadata": {},
   "outputs": [
    {
     "name": "stdout",
     "output_type": "stream",
     "text": [
      "Index(['Day 1', 'Day 2', 'Day 3', 'Day 4'], dtype='object')\n"
     ]
    }
   ],
   "source": [
    "import pandas as pd\n",
    "\n",
    "Date = ['1/1/2018', '2/1/2018', '3/1/2018', '4/1/2018']\n",
    "idx_name = ['Day 1', 'Day 2', 'Day 3', 'Day 4']\n",
    "\n",
    "sr = pd.Series(data = Date, index = idx_name)\n",
    "print(sr.index)"
   ]
  },
  {
   "cell_type": "markdown",
   "id": "3cb987b0",
   "metadata": {},
   "source": [
    "Resetting index to Default"
   ]
  },
  {
   "cell_type": "code",
   "execution_count": 11,
   "id": "f7c95e52",
   "metadata": {},
   "outputs": [
    {
     "name": "stdout",
     "output_type": "stream",
     "text": [
      "0    1/1/2018\n",
      "1    2/1/2018\n",
      "2    3/1/2018\n",
      "3    4/1/2018\n",
      "dtype: object\n"
     ]
    }
   ],
   "source": [
    "import pandas as pd\n",
    "\n",
    "Date = ['1/1/2018', '2/1/2018', '3/1/2018', '4/1/2018']\n",
    "idx_name = ['Day 1', 'Day 2', 'Day 3', 'Day 4']\n",
    "\n",
    "sr = pd.Series(data = Date,      # Series Data\n",
    "               index = idx_name   #Index\n",
    ")\n",
    "\n",
    "# Resetting index to default\n",
    "sr.reset_index(drop=True, inplace=True)\n",
    "print(sr)"
   ]
  },
  {
   "cell_type": "markdown",
   "id": "1b7e1a6c",
   "metadata": {},
   "source": [
    "Create a Pandas series from Array"
   ]
  },
  {
   "cell_type": "markdown",
   "id": "aadf2a02",
   "metadata": {},
   "source": [
    "Creating a pandas series without an index"
   ]
  },
  {
   "cell_type": "code",
   "execution_count": 14,
   "id": "50567f90",
   "metadata": {},
   "outputs": [
    {
     "name": "stdout",
     "output_type": "stream",
     "text": [
      "0    a\n",
      "1    b\n",
      "2    c\n",
      "3    d\n",
      "4    e\n",
      "dtype: object\n"
     ]
    }
   ],
   "source": [
    "import pandas as pd\n",
    "import numpy as np\n",
    "\n",
    "data = np.array(['a', 'b', 'c', 'd', 'e'])\n",
    "s = pd.Series(data)\n",
    "print(s)"
   ]
  },
  {
   "cell_type": "markdown",
   "id": "aecb492f",
   "metadata": {},
   "source": [
    "Creating a pandas Series with an custom index"
   ]
  },
  {
   "cell_type": "code",
   "execution_count": 15,
   "id": "be9f49a9",
   "metadata": {},
   "outputs": [
    {
     "name": "stdout",
     "output_type": "stream",
     "text": [
      "1000    a\n",
      "1001    b\n",
      "1002    c\n",
      "1003    d\n",
      "1004    e\n",
      "dtype: object\n"
     ]
    }
   ],
   "source": [
    "import pandas as pd\n",
    "import numpy as np\n",
    "\n",
    "data = np.array(['a', 'b', 'c', 'd', 'e'])\n",
    "\n",
    "s = pd.Series(data, index=[1000, 1001, 1002, 1003, 1004])\n",
    "print(s)"
   ]
  },
  {
   "cell_type": "code",
   "execution_count": 16,
   "id": "d53239e9",
   "metadata": {},
   "outputs": [
    {
     "name": "stdout",
     "output_type": "stream",
     "text": [
      "RangeIndex(start=0, stop=5, step=1)\n"
     ]
    }
   ],
   "source": [
    "import pandas as pd\n",
    "\n",
    "data = {'Name': ['John', 'Alice', 'Bob', 'Eve', 'Charlie'],\n",
    "        'Age': [25, 30, 22, 35, 28],\n",
    "        'Gender': ['Male', 'Female', 'Male', 'Female', 'Male'],\n",
    "        'Salary': [50000, 55000, 40000, 70000, 48000]}\n",
    "\n",
    "df = pd.DataFrame(data)\n",
    "print(df.index)"
   ]
  },
  {
   "cell_type": "markdown",
   "id": "7add5bf3",
   "metadata": {},
   "source": [
    "Setting a custom index"
   ]
  },
  {
   "cell_type": "code",
   "execution_count": 17,
   "id": "3ce0bf76",
   "metadata": {},
   "outputs": [
    {
     "name": "stdout",
     "output_type": "stream",
     "text": [
      "         Age  Gender  Salary\n",
      "Name                        \n",
      "John      25    Male   50000\n",
      "Alice     30  Female   55000\n",
      "Bob       22    Male   40000\n",
      "Eve       35  Female   70000\n",
      "Charlie   28    Male   48000\n"
     ]
    }
   ],
   "source": [
    "# Set name column as the index\n",
    "\n",
    "df_with_index = df.set_index('Name')\n",
    "print(df_with_index)"
   ]
  },
  {
   "cell_type": "markdown",
   "id": "ba0f7ae4",
   "metadata": {},
   "source": [
    "Accessing columns from DataFrame"
   ]
  },
  {
   "cell_type": "code",
   "execution_count": 18,
   "id": "12c4ef41",
   "metadata": {},
   "outputs": [
    {
     "name": "stdout",
     "output_type": "stream",
     "text": [
      "0    25\n",
      "1    30\n",
      "2    22\n",
      "3    35\n",
      "4    28\n",
      "Name: Age, dtype: int64\n"
     ]
    }
   ],
   "source": [
    "# Access the 'Age' column\n",
    "age_column = df['Age']\n",
    "print(age_column)"
   ]
  },
  {
   "cell_type": "markdown",
   "id": "19eead44",
   "metadata": {},
   "source": [
    "Accessing rows from the DataFrame"
   ]
  },
  {
   "cell_type": "code",
   "execution_count": 19,
   "id": "fe3822ae",
   "metadata": {},
   "outputs": [
    {
     "name": "stdout",
     "output_type": "stream",
     "text": [
      "Name       Alice\n",
      "Age           30\n",
      "Gender    Female\n",
      "Salary     55000\n",
      "Name: 1, dtype: object\n"
     ]
    }
   ],
   "source": [
    "# Access the row at index 1 (second row)\n",
    "second_row = df.iloc[1]\n",
    "print(second_row)"
   ]
  },
  {
   "cell_type": "markdown",
   "id": "d53c4339",
   "metadata": {},
   "source": [
    "Accessing multiple rows or columns"
   ]
  },
  {
   "cell_type": "code",
   "execution_count": 20,
   "id": "047e10bf",
   "metadata": {},
   "outputs": [
    {
     "name": "stdout",
     "output_type": "stream",
     "text": [
      "    Name  Age\n",
      "0   John   25\n",
      "1  Alice   30\n",
      "2    Bob   22\n"
     ]
    }
   ],
   "source": [
    "# Access the first threee rows and the 'Name' and 'Age' columns\n",
    "subset = df.loc[0:2, ['Name', 'Age']]\n",
    "print(subset)"
   ]
  },
  {
   "cell_type": "code",
   "execution_count": null,
   "id": "a2888c34",
   "metadata": {},
   "outputs": [],
   "source": []
  }
 ],
 "metadata": {
  "kernelspec": {
   "display_name": ".venv (3.13.5)",
   "language": "python",
   "name": "python3"
  },
  "language_info": {
   "codemirror_mode": {
    "name": "ipython",
    "version": 3
   },
   "file_extension": ".py",
   "mimetype": "text/x-python",
   "name": "python",
   "nbconvert_exporter": "python",
   "pygments_lexer": "ipython3",
   "version": "3.13.5"
  }
 },
 "nbformat": 4,
 "nbformat_minor": 5
}
