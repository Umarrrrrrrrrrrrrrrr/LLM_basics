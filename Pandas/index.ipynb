{
 "cells": [
  {
   "cell_type": "markdown",
   "id": "444d6290",
   "metadata": {},
   "source": [
    "Learning Pandas"
   ]
  },
  {
   "cell_type": "markdown",
   "id": "99534b6c",
   "metadata": {},
   "source": [
    "Creating an empty dataframe"
   ]
  },
  {
   "cell_type": "code",
   "execution_count": 1,
   "id": "f87c33bc",
   "metadata": {},
   "outputs": [
    {
     "name": "stdout",
     "output_type": "stream",
     "text": [
      "Empty DataFrame\n",
      "Columns: []\n",
      "Index: []\n"
     ]
    }
   ],
   "source": [
    "import pandas as pd\n",
    "\n",
    "df = pd.DataFrame()\n",
    "print(df)"
   ]
  },
  {
   "cell_type": "markdown",
   "id": "7dc775b8",
   "metadata": {},
   "source": [
    "Creating a DataFrame from a List\n"
   ]
  },
  {
   "cell_type": "code",
   "execution_count": 1,
   "id": "08aefc13",
   "metadata": {},
   "outputs": [
    {
     "name": "stdout",
     "output_type": "stream",
     "text": [
      "       0\n",
      "0  Geeks\n",
      "1    For\n",
      "2  Geeks\n",
      "3  Hellp\n"
     ]
    }
   ],
   "source": [
    "import pandas as pd\n",
    "\n",
    "lst = ['Geeks', 'For', 'Geeks', 'Hellp']\n",
    "df = pd.DataFrame(lst)\n",
    "print(df)"
   ]
  },
  {
   "cell_type": "code",
   "execution_count": null,
   "id": "341a4e69",
   "metadata": {},
   "outputs": [],
   "source": []
  }
 ],
 "metadata": {
  "kernelspec": {
   "display_name": ".venv (3.13.5)",
   "language": "python",
   "name": "python3"
  },
  "language_info": {
   "codemirror_mode": {
    "name": "ipython",
    "version": 3
   },
   "file_extension": ".py",
   "mimetype": "text/x-python",
   "name": "python",
   "nbconvert_exporter": "python",
   "pygments_lexer": "ipython3",
   "version": "3.13.5"
  }
 },
 "nbformat": 4,
 "nbformat_minor": 5
}
