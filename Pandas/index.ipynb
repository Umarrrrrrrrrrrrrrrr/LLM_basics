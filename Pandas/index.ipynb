{
 "cells": [
  {
   "cell_type": "markdown",
   "id": "444d6290",
   "metadata": {},
   "source": [
    "Learning Pandas"
   ]
  },
  {
   "cell_type": "markdown",
   "id": "99534b6c",
   "metadata": {},
   "source": [
    "Creating an empty dataframe"
   ]
  },
  {
   "cell_type": "code",
   "execution_count": null,
   "id": "f87c33bc",
   "metadata": {
    "vscode": {
     "languageId": "plaintext"
    }
   },
   "outputs": [],
   "source": [
    "import pandas as pd\n",
    "\n"
   ]
  }
 ],
 "metadata": {
  "language_info": {
   "name": "python"
  }
 },
 "nbformat": 4,
 "nbformat_minor": 5
}
